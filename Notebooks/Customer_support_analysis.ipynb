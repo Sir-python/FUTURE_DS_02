{
 "cells": [
  {
   "cell_type": "markdown",
   "id": "9ba91cf5",
   "metadata": {},
   "source": [
    "# **Libraries**"
   ]
  },
  {
   "cell_type": "code",
   "execution_count": 1,
   "id": "7efa4d89",
   "metadata": {},
   "outputs": [],
   "source": [
    "import pandas as pd\n",
    "import sys"
   ]
  },
  {
   "cell_type": "code",
   "execution_count": 2,
   "id": "6981916a",
   "metadata": {},
   "outputs": [],
   "source": [
    "sys.path.append(r\"F:\\Personal Works\\Future Interns\\FUTURE_DS_02\")"
   ]
  },
  {
   "cell_type": "markdown",
   "id": "4d7f5fcc",
   "metadata": {},
   "source": [
    "# **Dataframe EDA**"
   ]
  },
  {
   "cell_type": "code",
   "execution_count": 3,
   "id": "38c7721e",
   "metadata": {},
   "outputs": [],
   "source": [
    "df = pd.read_excel(r\"F:\\Personal Works\\Future Interns\\FUTURE_DS_02\\Datasets\\Raw\\customer_support_tickets.xlsx\", sheet_name=\"customer_support_tickets\")"
   ]
  },
  {
   "cell_type": "code",
   "execution_count": 4,
   "id": "c17c5f9f",
   "metadata": {},
   "outputs": [
    {
     "data": {
      "application/vnd.microsoft.datawrangler.viewer.v0+json": {
       "columns": [
        {
         "name": "index",
         "rawType": "int64",
         "type": "integer"
        },
        {
         "name": "Ticket ID",
         "rawType": "int64",
         "type": "integer"
        },
        {
         "name": "Customer Name",
         "rawType": "object",
         "type": "string"
        },
        {
         "name": "Customer Email",
         "rawType": "object",
         "type": "string"
        },
        {
         "name": "Customer Age",
         "rawType": "int64",
         "type": "integer"
        },
        {
         "name": "Customer Gender",
         "rawType": "object",
         "type": "string"
        },
        {
         "name": "Product Purchased",
         "rawType": "object",
         "type": "string"
        },
        {
         "name": "Date of Purchase",
         "rawType": "datetime64[ns]",
         "type": "datetime"
        },
        {
         "name": "Month of Purchase",
         "rawType": "object",
         "type": "string"
        },
        {
         "name": "Year of Purchase",
         "rawType": "int64",
         "type": "integer"
        },
        {
         "name": "Month-Year of Purchase",
         "rawType": "object",
         "type": "string"
        },
        {
         "name": "Ticket Type",
         "rawType": "object",
         "type": "string"
        },
        {
         "name": "Ticket Subject",
         "rawType": "object",
         "type": "string"
        },
        {
         "name": "Ticket Description",
         "rawType": "object",
         "type": "string"
        },
        {
         "name": "Ticket Status",
         "rawType": "object",
         "type": "string"
        },
        {
         "name": "Resolution",
         "rawType": "object",
         "type": "string"
        },
        {
         "name": "Ticket Priority",
         "rawType": "object",
         "type": "string"
        },
        {
         "name": "Ticket Channel",
         "rawType": "object",
         "type": "string"
        },
        {
         "name": "First Response Time",
         "rawType": "datetime64[ns]",
         "type": "datetime"
        },
        {
         "name": "Response Hours",
         "rawType": "float64",
         "type": "float"
        },
        {
         "name": "Time to Resolution",
         "rawType": "datetime64[ns]",
         "type": "datetime"
        },
        {
         "name": "Resolution Hours",
         "rawType": "float64",
         "type": "float"
        },
        {
         "name": "Customer Satisfaction Rating",
         "rawType": "float64",
         "type": "float"
        }
       ],
       "ref": "6173f611-2f3d-463c-9d05-ee2e49865e5a",
       "rows": [
        [
         "0",
         "8428",
         "John Hensley",
         "vincentangelica@example.net",
         "24",
         "Other",
         "Amazon Echo",
         "2021-04-18 00:00:00",
         "Apr",
         "2021",
         "Apr-2021",
         "Refund request",
         "Refund request",
         "I'm having an issue with the {product_purchased}. Please assist.\n\nIf you're unsure about the value of your item, click \"Submit\" with your purchase details, including your name and your name's e-mail address I've tried using different cables, adapters, or peripherals with my {product_purchased}, but the issue persists.",
         "Closed",
         "Important get include establish decision.",
         "Medium",
         "Email",
         "2023-06-01 12:01:00",
         "12.016666666720994",
         "2023-06-02 00:55:00",
         "0.9166666666860692",
         "3.0"
        ],
        [
         "1",
         "7965",
         "Jamie Long",
         "nicholsonpaul@example.net",
         "65",
         "Male",
         "Canon DSLR Camera",
         "2020-05-11 00:00:00",
         "May",
         "2020",
         "May-2020",
         "Refund request",
         "Software bug",
         "I'm having an issue with the {product_purchased}. Please assist.\n\n{product_id} is unique.\n\n{product_name} is unique.\n\n\nI received an email regarding a case where the account is I've followed online tutorials and community forums to troubleshoot the issue, but no luck so far.",
         "Closed",
         "Campaign early everybody south woman policy.",
         "Low",
         "Chat",
         "2023-06-01 05:39:00",
         "5.650000000081491",
         "2023-06-02 00:48:00",
         "0.7999999999883585",
         "4.0"
        ],
        [
         "2",
         "8389",
         "Sharon Marsh",
         "brittanycaldwell@example.org",
         "33",
         "Male",
         "Garmin Forerunner",
         "2021-12-18 00:00:00",
         "Dec",
         "2021",
         "Dec-2021",
         "Refund request",
         "Account access",
         "I'm having an issue with the {product_purchased}. Please assist.\n\nMy name is Lidia-Ann and I am currently a licensed clinical pharmacist using a combination of prescription medicine (Vicovir and Prozac) I've checked the device settings and made sure that everything is configured correctly.",
         "Closed",
         "Rate already common least discuss long never.",
         "Low",
         "Phone",
         "2023-06-01 11:40:00",
         "11.666666666627862",
         "2023-06-02 00:46:00",
         "0.7666666667209938",
         "5.0"
        ],
        [
         "3",
         "8024",
         "Christine Parker",
         "fergusonchristopher@example.org",
         "63",
         "Other",
         "Canon EOS",
         "2021-01-09 00:00:00",
         "Jan",
         "2021",
         "Jan-2021",
         "Technical issue",
         "Battery life",
         "I'm having an issue with the {product_purchased}. Please assist.\n\nI just need to know the correct number on the label and type it and hit enter.\n\nMy order is a little late but it took the wrong I've recently updated the firmware of my {product_purchased}, and the issue started happening afterward. Could it be related to the update?",
         "Closed",
         "Crime table conference.",
         "Medium",
         "Chat",
         "2023-06-01 17:24:00",
         "17.399999999965075",
         "2023-06-02 00:37:00",
         "0.6166666665812954",
         "5.0"
        ],
        [
         "4",
         "8385",
         "Jeremy Gibbs",
         "danalopez@example.com",
         "48",
         "Male",
         "Lenovo ThinkPad",
         "2021-01-05 00:00:00",
         "Jan",
         "2021",
         "Jan-2021",
         "Billing inquiry",
         "Software bug",
         "I've accidentally deleted important data from my {product_purchased}. Is there any way to recover the deleted files? I need them urgently.\n\n\nSorry to hear all. However, I'd like to ask for someone to respond for this I'm unable to find the option to perform the desired action in the {product_purchased}. Could you please guide me through the steps?",
         "Closed",
         "Memory tough a memory their.",
         "Low",
         "Chat",
         "2023-06-01 10:11:00",
         "10.183333333348855",
         "2023-06-02 00:32:00",
         "0.5333333333255723",
         "2.0"
        ],
        [
         "5",
         "7738",
         "Shannon Perkins",
         "deansmith@example.net",
         "57",
         "Male",
         "Google Nest",
         "2020-12-22 00:00:00",
         "Dec",
         "2020",
         "Dec-2020",
         "Refund request",
         "Product recommendation",
         "I'm having an issue with the {product_purchased}. Please assist. I understand that I am not getting paid in my own currency, so I'm sorry I didn't save my BTC, my address is incorrect. Thank You! # The issue I'm facing is intermittent. Sometimes it works fine, but other times it acts up unexpectedly.",
         "Closed",
         "Measure there one show suffer.",
         "Medium",
         "Phone",
         "2023-06-01 13:52:00",
         "13.866666666639503",
         "2023-06-02 00:31:00",
         "0.5166666666045785",
         "3.0"
        ],
        [
         "6",
         "7769",
         "Gregory Weber",
         "rwallace@example.net",
         "50",
         "Other",
         "Asus ROG",
         "2021-07-21 00:00:00",
         "Jul",
         "2021",
         "Jul-2021",
         "Refund request",
         "Payment issue",
         "I'm having an issue with the {product_purchased}. Please assist. (Yours truly)\n\nThe item was sent out via email by a friend, we don't have any previous transactions on these accounts so just send another message I need assistance as soon as possible because it's affecting my work and productivity.",
         "Closed",
         "Maybe writer live.",
         "Medium",
         "Phone",
         "2023-06-01 17:44:00",
         "17.733333333337214",
         "2023-06-02 00:27:00",
         "0.4500000000698492",
         "2.0"
        ],
        [
         "7",
         "6995",
         "Christian Smith",
         "sprice@example.org",
         "70",
         "Male",
         "Samsung Galaxy",
         "2021-09-10 00:00:00",
         "Sep",
         "2021",
         "Sep-2021",
         "Technical issue",
         "Software bug",
         "I'm having an issue with the {product_purchased}. Please assist. If it's not working.\n\nI read the last post, and I don't see the link to the page.\n\nI've updated all the settings I need assistance as soon as possible because it's affecting my work and productivity.",
         "Closed",
         "Bed off expect agency.",
         "Low",
         "Email",
         "2023-06-01 03:31:00",
         "3.5166666666045785",
         "2023-06-02 00:25:00",
         "0.41666666662786156",
         "4.0"
        ],
        [
         "8",
         "7320",
         "Richard Ford",
         "brandipowers@example.com",
         "69",
         "Male",
         "Adobe Photoshop",
         "2020-05-31 00:00:00",
         "May",
         "2020",
         "May-2020",
         "Refund request",
         "Battery life",
         "I'm having an issue with the {product_purchased}. Please assist.\n\nThank you! I know this will be difficult, but I'm sure you'll find a solution that's great for all of you. I hope you're I've performed a factory reset on my {product_purchased}, hoping it would resolve the problem, but it didn't help.",
         "Closed",
         "Computer energy remember quickly minute without.",
         "High",
         "Social media",
         "2023-06-01 05:15:00",
         "5.25",
         "2023-06-02 00:19:00",
         "0.3166666666511446",
         "4.0"
        ],
        [
         "9",
         "8097",
         "Alexa Wilson",
         "veronicawilson@example.org",
         "70",
         "Male",
         "Nest Thermostat",
         "2020-06-13 00:00:00",
         "Jun",
         "2020",
         "Jun-2020",
         "Technical issue",
         "Software bug",
         "I'm having an issue with the {product_purchased}. Please assist.\n\nIf you're experiencing crashes and you get some or all of the following information:\n\nthe product is not running...\n\nthere are any issues I'm concerned about the security of my {product_purchased} and would like to ensure that my data is safe.",
         "Closed",
         "Floor structure during play.",
         "High",
         "Email",
         "2023-06-01 22:37:00",
         "22.61666666669771",
         "2023-06-02 00:18:00",
         "0.2999999999301508",
         "2.0"
        ]
       ],
       "shape": {
        "columns": 22,
        "rows": 10
       }
      },
      "text/html": [
       "<div>\n",
       "<style scoped>\n",
       "    .dataframe tbody tr th:only-of-type {\n",
       "        vertical-align: middle;\n",
       "    }\n",
       "\n",
       "    .dataframe tbody tr th {\n",
       "        vertical-align: top;\n",
       "    }\n",
       "\n",
       "    .dataframe thead th {\n",
       "        text-align: right;\n",
       "    }\n",
       "</style>\n",
       "<table border=\"1\" class=\"dataframe\">\n",
       "  <thead>\n",
       "    <tr style=\"text-align: right;\">\n",
       "      <th></th>\n",
       "      <th>Ticket ID</th>\n",
       "      <th>Customer Name</th>\n",
       "      <th>Customer Email</th>\n",
       "      <th>Customer Age</th>\n",
       "      <th>Customer Gender</th>\n",
       "      <th>Product Purchased</th>\n",
       "      <th>Date of Purchase</th>\n",
       "      <th>Month of Purchase</th>\n",
       "      <th>Year of Purchase</th>\n",
       "      <th>Month-Year of Purchase</th>\n",
       "      <th>...</th>\n",
       "      <th>Ticket Description</th>\n",
       "      <th>Ticket Status</th>\n",
       "      <th>Resolution</th>\n",
       "      <th>Ticket Priority</th>\n",
       "      <th>Ticket Channel</th>\n",
       "      <th>First Response Time</th>\n",
       "      <th>Response Hours</th>\n",
       "      <th>Time to Resolution</th>\n",
       "      <th>Resolution Hours</th>\n",
       "      <th>Customer Satisfaction Rating</th>\n",
       "    </tr>\n",
       "  </thead>\n",
       "  <tbody>\n",
       "    <tr>\n",
       "      <th>0</th>\n",
       "      <td>8428</td>\n",
       "      <td>John Hensley</td>\n",
       "      <td>vincentangelica@example.net</td>\n",
       "      <td>24</td>\n",
       "      <td>Other</td>\n",
       "      <td>Amazon Echo</td>\n",
       "      <td>2021-04-18</td>\n",
       "      <td>Apr</td>\n",
       "      <td>2021</td>\n",
       "      <td>Apr-2021</td>\n",
       "      <td>...</td>\n",
       "      <td>I'm having an issue with the {product_purchase...</td>\n",
       "      <td>Closed</td>\n",
       "      <td>Important get include establish decision.</td>\n",
       "      <td>Medium</td>\n",
       "      <td>Email</td>\n",
       "      <td>2023-06-01 12:01:00</td>\n",
       "      <td>12.016667</td>\n",
       "      <td>2023-06-02 00:55:00</td>\n",
       "      <td>0.916667</td>\n",
       "      <td>3.0</td>\n",
       "    </tr>\n",
       "    <tr>\n",
       "      <th>1</th>\n",
       "      <td>7965</td>\n",
       "      <td>Jamie Long</td>\n",
       "      <td>nicholsonpaul@example.net</td>\n",
       "      <td>65</td>\n",
       "      <td>Male</td>\n",
       "      <td>Canon DSLR Camera</td>\n",
       "      <td>2020-05-11</td>\n",
       "      <td>May</td>\n",
       "      <td>2020</td>\n",
       "      <td>May-2020</td>\n",
       "      <td>...</td>\n",
       "      <td>I'm having an issue with the {product_purchase...</td>\n",
       "      <td>Closed</td>\n",
       "      <td>Campaign early everybody south woman policy.</td>\n",
       "      <td>Low</td>\n",
       "      <td>Chat</td>\n",
       "      <td>2023-06-01 05:39:00</td>\n",
       "      <td>5.650000</td>\n",
       "      <td>2023-06-02 00:48:00</td>\n",
       "      <td>0.800000</td>\n",
       "      <td>4.0</td>\n",
       "    </tr>\n",
       "    <tr>\n",
       "      <th>2</th>\n",
       "      <td>8389</td>\n",
       "      <td>Sharon Marsh</td>\n",
       "      <td>brittanycaldwell@example.org</td>\n",
       "      <td>33</td>\n",
       "      <td>Male</td>\n",
       "      <td>Garmin Forerunner</td>\n",
       "      <td>2021-12-18</td>\n",
       "      <td>Dec</td>\n",
       "      <td>2021</td>\n",
       "      <td>Dec-2021</td>\n",
       "      <td>...</td>\n",
       "      <td>I'm having an issue with the {product_purchase...</td>\n",
       "      <td>Closed</td>\n",
       "      <td>Rate already common least discuss long never.</td>\n",
       "      <td>Low</td>\n",
       "      <td>Phone</td>\n",
       "      <td>2023-06-01 11:40:00</td>\n",
       "      <td>11.666667</td>\n",
       "      <td>2023-06-02 00:46:00</td>\n",
       "      <td>0.766667</td>\n",
       "      <td>5.0</td>\n",
       "    </tr>\n",
       "    <tr>\n",
       "      <th>3</th>\n",
       "      <td>8024</td>\n",
       "      <td>Christine Parker</td>\n",
       "      <td>fergusonchristopher@example.org</td>\n",
       "      <td>63</td>\n",
       "      <td>Other</td>\n",
       "      <td>Canon EOS</td>\n",
       "      <td>2021-01-09</td>\n",
       "      <td>Jan</td>\n",
       "      <td>2021</td>\n",
       "      <td>Jan-2021</td>\n",
       "      <td>...</td>\n",
       "      <td>I'm having an issue with the {product_purchase...</td>\n",
       "      <td>Closed</td>\n",
       "      <td>Crime table conference.</td>\n",
       "      <td>Medium</td>\n",
       "      <td>Chat</td>\n",
       "      <td>2023-06-01 17:24:00</td>\n",
       "      <td>17.400000</td>\n",
       "      <td>2023-06-02 00:37:00</td>\n",
       "      <td>0.616667</td>\n",
       "      <td>5.0</td>\n",
       "    </tr>\n",
       "    <tr>\n",
       "      <th>4</th>\n",
       "      <td>8385</td>\n",
       "      <td>Jeremy Gibbs</td>\n",
       "      <td>danalopez@example.com</td>\n",
       "      <td>48</td>\n",
       "      <td>Male</td>\n",
       "      <td>Lenovo ThinkPad</td>\n",
       "      <td>2021-01-05</td>\n",
       "      <td>Jan</td>\n",
       "      <td>2021</td>\n",
       "      <td>Jan-2021</td>\n",
       "      <td>...</td>\n",
       "      <td>I've accidentally deleted important data from ...</td>\n",
       "      <td>Closed</td>\n",
       "      <td>Memory tough a memory their.</td>\n",
       "      <td>Low</td>\n",
       "      <td>Chat</td>\n",
       "      <td>2023-06-01 10:11:00</td>\n",
       "      <td>10.183333</td>\n",
       "      <td>2023-06-02 00:32:00</td>\n",
       "      <td>0.533333</td>\n",
       "      <td>2.0</td>\n",
       "    </tr>\n",
       "    <tr>\n",
       "      <th>5</th>\n",
       "      <td>7738</td>\n",
       "      <td>Shannon Perkins</td>\n",
       "      <td>deansmith@example.net</td>\n",
       "      <td>57</td>\n",
       "      <td>Male</td>\n",
       "      <td>Google Nest</td>\n",
       "      <td>2020-12-22</td>\n",
       "      <td>Dec</td>\n",
       "      <td>2020</td>\n",
       "      <td>Dec-2020</td>\n",
       "      <td>...</td>\n",
       "      <td>I'm having an issue with the {product_purchase...</td>\n",
       "      <td>Closed</td>\n",
       "      <td>Measure there one show suffer.</td>\n",
       "      <td>Medium</td>\n",
       "      <td>Phone</td>\n",
       "      <td>2023-06-01 13:52:00</td>\n",
       "      <td>13.866667</td>\n",
       "      <td>2023-06-02 00:31:00</td>\n",
       "      <td>0.516667</td>\n",
       "      <td>3.0</td>\n",
       "    </tr>\n",
       "    <tr>\n",
       "      <th>6</th>\n",
       "      <td>7769</td>\n",
       "      <td>Gregory Weber</td>\n",
       "      <td>rwallace@example.net</td>\n",
       "      <td>50</td>\n",
       "      <td>Other</td>\n",
       "      <td>Asus ROG</td>\n",
       "      <td>2021-07-21</td>\n",
       "      <td>Jul</td>\n",
       "      <td>2021</td>\n",
       "      <td>Jul-2021</td>\n",
       "      <td>...</td>\n",
       "      <td>I'm having an issue with the {product_purchase...</td>\n",
       "      <td>Closed</td>\n",
       "      <td>Maybe writer live.</td>\n",
       "      <td>Medium</td>\n",
       "      <td>Phone</td>\n",
       "      <td>2023-06-01 17:44:00</td>\n",
       "      <td>17.733333</td>\n",
       "      <td>2023-06-02 00:27:00</td>\n",
       "      <td>0.450000</td>\n",
       "      <td>2.0</td>\n",
       "    </tr>\n",
       "    <tr>\n",
       "      <th>7</th>\n",
       "      <td>6995</td>\n",
       "      <td>Christian Smith</td>\n",
       "      <td>sprice@example.org</td>\n",
       "      <td>70</td>\n",
       "      <td>Male</td>\n",
       "      <td>Samsung Galaxy</td>\n",
       "      <td>2021-09-10</td>\n",
       "      <td>Sep</td>\n",
       "      <td>2021</td>\n",
       "      <td>Sep-2021</td>\n",
       "      <td>...</td>\n",
       "      <td>I'm having an issue with the {product_purchase...</td>\n",
       "      <td>Closed</td>\n",
       "      <td>Bed off expect agency.</td>\n",
       "      <td>Low</td>\n",
       "      <td>Email</td>\n",
       "      <td>2023-06-01 03:31:00</td>\n",
       "      <td>3.516667</td>\n",
       "      <td>2023-06-02 00:25:00</td>\n",
       "      <td>0.416667</td>\n",
       "      <td>4.0</td>\n",
       "    </tr>\n",
       "    <tr>\n",
       "      <th>8</th>\n",
       "      <td>7320</td>\n",
       "      <td>Richard Ford</td>\n",
       "      <td>brandipowers@example.com</td>\n",
       "      <td>69</td>\n",
       "      <td>Male</td>\n",
       "      <td>Adobe Photoshop</td>\n",
       "      <td>2020-05-31</td>\n",
       "      <td>May</td>\n",
       "      <td>2020</td>\n",
       "      <td>May-2020</td>\n",
       "      <td>...</td>\n",
       "      <td>I'm having an issue with the {product_purchase...</td>\n",
       "      <td>Closed</td>\n",
       "      <td>Computer energy remember quickly minute without.</td>\n",
       "      <td>High</td>\n",
       "      <td>Social media</td>\n",
       "      <td>2023-06-01 05:15:00</td>\n",
       "      <td>5.250000</td>\n",
       "      <td>2023-06-02 00:19:00</td>\n",
       "      <td>0.316667</td>\n",
       "      <td>4.0</td>\n",
       "    </tr>\n",
       "    <tr>\n",
       "      <th>9</th>\n",
       "      <td>8097</td>\n",
       "      <td>Alexa Wilson</td>\n",
       "      <td>veronicawilson@example.org</td>\n",
       "      <td>70</td>\n",
       "      <td>Male</td>\n",
       "      <td>Nest Thermostat</td>\n",
       "      <td>2020-06-13</td>\n",
       "      <td>Jun</td>\n",
       "      <td>2020</td>\n",
       "      <td>Jun-2020</td>\n",
       "      <td>...</td>\n",
       "      <td>I'm having an issue with the {product_purchase...</td>\n",
       "      <td>Closed</td>\n",
       "      <td>Floor structure during play.</td>\n",
       "      <td>High</td>\n",
       "      <td>Email</td>\n",
       "      <td>2023-06-01 22:37:00</td>\n",
       "      <td>22.616667</td>\n",
       "      <td>2023-06-02 00:18:00</td>\n",
       "      <td>0.300000</td>\n",
       "      <td>2.0</td>\n",
       "    </tr>\n",
       "  </tbody>\n",
       "</table>\n",
       "<p>10 rows × 22 columns</p>\n",
       "</div>"
      ],
      "text/plain": [
       "   Ticket ID     Customer Name                   Customer Email  Customer Age  \\\n",
       "0       8428      John Hensley      vincentangelica@example.net            24   \n",
       "1       7965        Jamie Long        nicholsonpaul@example.net            65   \n",
       "2       8389      Sharon Marsh     brittanycaldwell@example.org            33   \n",
       "3       8024  Christine Parker  fergusonchristopher@example.org            63   \n",
       "4       8385      Jeremy Gibbs            danalopez@example.com            48   \n",
       "5       7738   Shannon Perkins            deansmith@example.net            57   \n",
       "6       7769     Gregory Weber             rwallace@example.net            50   \n",
       "7       6995   Christian Smith               sprice@example.org            70   \n",
       "8       7320      Richard Ford         brandipowers@example.com            69   \n",
       "9       8097      Alexa Wilson       veronicawilson@example.org            70   \n",
       "\n",
       "  Customer Gender  Product Purchased Date of Purchase Month of Purchase  \\\n",
       "0           Other        Amazon Echo       2021-04-18               Apr   \n",
       "1            Male  Canon DSLR Camera       2020-05-11               May   \n",
       "2            Male  Garmin Forerunner       2021-12-18               Dec   \n",
       "3           Other          Canon EOS       2021-01-09               Jan   \n",
       "4            Male    Lenovo ThinkPad       2021-01-05               Jan   \n",
       "5            Male        Google Nest       2020-12-22               Dec   \n",
       "6           Other           Asus ROG       2021-07-21               Jul   \n",
       "7            Male     Samsung Galaxy       2021-09-10               Sep   \n",
       "8            Male    Adobe Photoshop       2020-05-31               May   \n",
       "9            Male    Nest Thermostat       2020-06-13               Jun   \n",
       "\n",
       "   Year of Purchase Month-Year of Purchase  ...  \\\n",
       "0              2021               Apr-2021  ...   \n",
       "1              2020               May-2020  ...   \n",
       "2              2021               Dec-2021  ...   \n",
       "3              2021               Jan-2021  ...   \n",
       "4              2021               Jan-2021  ...   \n",
       "5              2020               Dec-2020  ...   \n",
       "6              2021               Jul-2021  ...   \n",
       "7              2021               Sep-2021  ...   \n",
       "8              2020               May-2020  ...   \n",
       "9              2020               Jun-2020  ...   \n",
       "\n",
       "                                  Ticket Description Ticket Status  \\\n",
       "0  I'm having an issue with the {product_purchase...        Closed   \n",
       "1  I'm having an issue with the {product_purchase...        Closed   \n",
       "2  I'm having an issue with the {product_purchase...        Closed   \n",
       "3  I'm having an issue with the {product_purchase...        Closed   \n",
       "4  I've accidentally deleted important data from ...        Closed   \n",
       "5  I'm having an issue with the {product_purchase...        Closed   \n",
       "6  I'm having an issue with the {product_purchase...        Closed   \n",
       "7  I'm having an issue with the {product_purchase...        Closed   \n",
       "8  I'm having an issue with the {product_purchase...        Closed   \n",
       "9  I'm having an issue with the {product_purchase...        Closed   \n",
       "\n",
       "                                         Resolution Ticket Priority  \\\n",
       "0         Important get include establish decision.          Medium   \n",
       "1      Campaign early everybody south woman policy.             Low   \n",
       "2     Rate already common least discuss long never.             Low   \n",
       "3                           Crime table conference.          Medium   \n",
       "4                      Memory tough a memory their.             Low   \n",
       "5                    Measure there one show suffer.          Medium   \n",
       "6                                Maybe writer live.          Medium   \n",
       "7                            Bed off expect agency.             Low   \n",
       "8  Computer energy remember quickly minute without.            High   \n",
       "9                      Floor structure during play.            High   \n",
       "\n",
       "  Ticket Channel First Response Time Response Hours  Time to Resolution  \\\n",
       "0          Email 2023-06-01 12:01:00      12.016667 2023-06-02 00:55:00   \n",
       "1           Chat 2023-06-01 05:39:00       5.650000 2023-06-02 00:48:00   \n",
       "2          Phone 2023-06-01 11:40:00      11.666667 2023-06-02 00:46:00   \n",
       "3           Chat 2023-06-01 17:24:00      17.400000 2023-06-02 00:37:00   \n",
       "4           Chat 2023-06-01 10:11:00      10.183333 2023-06-02 00:32:00   \n",
       "5          Phone 2023-06-01 13:52:00      13.866667 2023-06-02 00:31:00   \n",
       "6          Phone 2023-06-01 17:44:00      17.733333 2023-06-02 00:27:00   \n",
       "7          Email 2023-06-01 03:31:00       3.516667 2023-06-02 00:25:00   \n",
       "8   Social media 2023-06-01 05:15:00       5.250000 2023-06-02 00:19:00   \n",
       "9          Email 2023-06-01 22:37:00      22.616667 2023-06-02 00:18:00   \n",
       "\n",
       "   Resolution Hours Customer Satisfaction Rating  \n",
       "0          0.916667                          3.0  \n",
       "1          0.800000                          4.0  \n",
       "2          0.766667                          5.0  \n",
       "3          0.616667                          5.0  \n",
       "4          0.533333                          2.0  \n",
       "5          0.516667                          3.0  \n",
       "6          0.450000                          2.0  \n",
       "7          0.416667                          4.0  \n",
       "8          0.316667                          4.0  \n",
       "9          0.300000                          2.0  \n",
       "\n",
       "[10 rows x 22 columns]"
      ]
     },
     "execution_count": 4,
     "metadata": {},
     "output_type": "execute_result"
    }
   ],
   "source": [
    "df.head(10)"
   ]
  },
  {
   "cell_type": "code",
   "execution_count": 5,
   "id": "3c04c2c4",
   "metadata": {},
   "outputs": [
    {
     "name": "stdout",
     "output_type": "stream",
     "text": [
      "<class 'pandas.core.frame.DataFrame'>\n",
      "RangeIndex: 8469 entries, 0 to 8468\n",
      "Data columns (total 22 columns):\n",
      " #   Column                        Non-Null Count  Dtype         \n",
      "---  ------                        --------------  -----         \n",
      " 0   Ticket ID                     8469 non-null   int64         \n",
      " 1   Customer Name                 8469 non-null   object        \n",
      " 2   Customer Email                8469 non-null   object        \n",
      " 3   Customer Age                  8469 non-null   int64         \n",
      " 4   Customer Gender               8469 non-null   object        \n",
      " 5   Product Purchased             8469 non-null   object        \n",
      " 6   Date of Purchase              8469 non-null   datetime64[ns]\n",
      " 7   Month of Purchase             8469 non-null   object        \n",
      " 8   Year of Purchase              8469 non-null   int64         \n",
      " 9   Month-Year of Purchase        8469 non-null   object        \n",
      " 10  Ticket Type                   8469 non-null   object        \n",
      " 11  Ticket Subject                8469 non-null   object        \n",
      " 12  Ticket Description            8469 non-null   object        \n",
      " 13  Ticket Status                 8469 non-null   object        \n",
      " 14  Resolution                    2769 non-null   object        \n",
      " 15  Ticket Priority               8469 non-null   object        \n",
      " 16  Ticket Channel                8469 non-null   object        \n",
      " 17  First Response Time           5650 non-null   datetime64[ns]\n",
      " 18  Response Hours                8469 non-null   float64       \n",
      " 19  Time to Resolution            2769 non-null   datetime64[ns]\n",
      " 20  Resolution Hours              8469 non-null   float64       \n",
      " 21  Customer Satisfaction Rating  2769 non-null   float64       \n",
      "dtypes: datetime64[ns](3), float64(3), int64(3), object(13)\n",
      "memory usage: 1.4+ MB\n"
     ]
    }
   ],
   "source": [
    "df.info()"
   ]
  },
  {
   "cell_type": "code",
   "execution_count": 6,
   "id": "bd5a4540",
   "metadata": {},
   "outputs": [
    {
     "data": {
      "application/vnd.microsoft.datawrangler.viewer.v0+json": {
       "columns": [
        {
         "name": "index",
         "rawType": "object",
         "type": "string"
        },
        {
         "name": "Ticket ID",
         "rawType": "float64",
         "type": "float"
        },
        {
         "name": "Customer Age",
         "rawType": "float64",
         "type": "float"
        },
        {
         "name": "Date of Purchase",
         "rawType": "object",
         "type": "unknown"
        },
        {
         "name": "Year of Purchase",
         "rawType": "float64",
         "type": "float"
        },
        {
         "name": "First Response Time",
         "rawType": "object",
         "type": "unknown"
        },
        {
         "name": "Response Hours",
         "rawType": "float64",
         "type": "float"
        },
        {
         "name": "Time to Resolution",
         "rawType": "object",
         "type": "unknown"
        },
        {
         "name": "Resolution Hours",
         "rawType": "float64",
         "type": "float"
        },
        {
         "name": "Customer Satisfaction Rating",
         "rawType": "float64",
         "type": "float"
        }
       ],
       "ref": "e91ecb0b-5178-46a0-bf7f-ccb9518f7c44",
       "rows": [
        [
         "count",
         "8469.0",
         "8469.0",
         "8469",
         "8469.0",
         "5650",
         "8469.0",
         "2769",
         "8469.0",
         "2769.0"
        ],
        [
         "mean",
         "4235.0",
         "44.02680363679301",
         "2020-12-30 01:35:13.071200768",
         "2020.4998228834572",
         "2023-06-01 11:26:17.617699328",
         "8.019126618648253",
         "2023-06-01 11:16:51.722643712",
         "3.9094560554178415",
         "2.991332611050921"
        ],
        [
         "min",
         "1.0",
         "18.0",
         "2020-01-01 00:00:00",
         "2020.0",
         "2023-05-31 21:55:00",
         "0.0",
         "2023-05-31 21:53:00",
         "0.0",
         "1.0"
        ],
        [
         "25%",
         "2118.0",
         "31.0",
         "2020-07-02 00:00:00",
         "2020.0",
         "2023-06-01 05:24:00",
         "0.0",
         "2023-06-01 05:34:00",
         "0.0",
         "2.0"
        ],
        [
         "50%",
         "4235.0",
         "44.0",
         "2020-12-31 00:00:00",
         "2020.0",
         "2023-06-01 11:26:00",
         "5.9500000000116415",
         "2023-06-01 11:17:00",
         "0.0",
         "3.0"
        ],
        [
         "75%",
         "6352.0",
         "57.0",
         "2021-07-01 00:00:00",
         "2021.0",
         "2023-06-01 17:37:00",
         "15.149999999965075",
         "2023-06-01 17:07:00",
         "5.916666666744277",
         "4.0"
        ],
        [
         "max",
         "8469.0",
         "70.0",
         "2021-12-30 00:00:00",
         "2021.0",
         "2023-06-02 00:54:00",
         "23.983333333279006",
         "2023-06-02 00:55:00",
         "23.983333333279006",
         "5.0"
        ],
        [
         "std",
         "2444.9340481902573",
         "15.29611249888238",
         null,
         "0.5000294906661044",
         null,
         "8.030059244102382",
         null,
         "6.846465909132471",
         "1.407015861799693"
        ]
       ],
       "shape": {
        "columns": 9,
        "rows": 8
       }
      },
      "text/html": [
       "<div>\n",
       "<style scoped>\n",
       "    .dataframe tbody tr th:only-of-type {\n",
       "        vertical-align: middle;\n",
       "    }\n",
       "\n",
       "    .dataframe tbody tr th {\n",
       "        vertical-align: top;\n",
       "    }\n",
       "\n",
       "    .dataframe thead th {\n",
       "        text-align: right;\n",
       "    }\n",
       "</style>\n",
       "<table border=\"1\" class=\"dataframe\">\n",
       "  <thead>\n",
       "    <tr style=\"text-align: right;\">\n",
       "      <th></th>\n",
       "      <th>Ticket ID</th>\n",
       "      <th>Customer Age</th>\n",
       "      <th>Date of Purchase</th>\n",
       "      <th>Year of Purchase</th>\n",
       "      <th>First Response Time</th>\n",
       "      <th>Response Hours</th>\n",
       "      <th>Time to Resolution</th>\n",
       "      <th>Resolution Hours</th>\n",
       "      <th>Customer Satisfaction Rating</th>\n",
       "    </tr>\n",
       "  </thead>\n",
       "  <tbody>\n",
       "    <tr>\n",
       "      <th>count</th>\n",
       "      <td>8469.000000</td>\n",
       "      <td>8469.000000</td>\n",
       "      <td>8469</td>\n",
       "      <td>8469.000000</td>\n",
       "      <td>5650</td>\n",
       "      <td>8469.000000</td>\n",
       "      <td>2769</td>\n",
       "      <td>8469.000000</td>\n",
       "      <td>2769.000000</td>\n",
       "    </tr>\n",
       "    <tr>\n",
       "      <th>mean</th>\n",
       "      <td>4235.000000</td>\n",
       "      <td>44.026804</td>\n",
       "      <td>2020-12-30 01:35:13.071200768</td>\n",
       "      <td>2020.499823</td>\n",
       "      <td>2023-06-01 11:26:17.617699328</td>\n",
       "      <td>8.019127</td>\n",
       "      <td>2023-06-01 11:16:51.722643712</td>\n",
       "      <td>3.909456</td>\n",
       "      <td>2.991333</td>\n",
       "    </tr>\n",
       "    <tr>\n",
       "      <th>min</th>\n",
       "      <td>1.000000</td>\n",
       "      <td>18.000000</td>\n",
       "      <td>2020-01-01 00:00:00</td>\n",
       "      <td>2020.000000</td>\n",
       "      <td>2023-05-31 21:55:00</td>\n",
       "      <td>0.000000</td>\n",
       "      <td>2023-05-31 21:53:00</td>\n",
       "      <td>0.000000</td>\n",
       "      <td>1.000000</td>\n",
       "    </tr>\n",
       "    <tr>\n",
       "      <th>25%</th>\n",
       "      <td>2118.000000</td>\n",
       "      <td>31.000000</td>\n",
       "      <td>2020-07-02 00:00:00</td>\n",
       "      <td>2020.000000</td>\n",
       "      <td>2023-06-01 05:24:00</td>\n",
       "      <td>0.000000</td>\n",
       "      <td>2023-06-01 05:34:00</td>\n",
       "      <td>0.000000</td>\n",
       "      <td>2.000000</td>\n",
       "    </tr>\n",
       "    <tr>\n",
       "      <th>50%</th>\n",
       "      <td>4235.000000</td>\n",
       "      <td>44.000000</td>\n",
       "      <td>2020-12-31 00:00:00</td>\n",
       "      <td>2020.000000</td>\n",
       "      <td>2023-06-01 11:26:00</td>\n",
       "      <td>5.950000</td>\n",
       "      <td>2023-06-01 11:17:00</td>\n",
       "      <td>0.000000</td>\n",
       "      <td>3.000000</td>\n",
       "    </tr>\n",
       "    <tr>\n",
       "      <th>75%</th>\n",
       "      <td>6352.000000</td>\n",
       "      <td>57.000000</td>\n",
       "      <td>2021-07-01 00:00:00</td>\n",
       "      <td>2021.000000</td>\n",
       "      <td>2023-06-01 17:37:00</td>\n",
       "      <td>15.150000</td>\n",
       "      <td>2023-06-01 17:07:00</td>\n",
       "      <td>5.916667</td>\n",
       "      <td>4.000000</td>\n",
       "    </tr>\n",
       "    <tr>\n",
       "      <th>max</th>\n",
       "      <td>8469.000000</td>\n",
       "      <td>70.000000</td>\n",
       "      <td>2021-12-30 00:00:00</td>\n",
       "      <td>2021.000000</td>\n",
       "      <td>2023-06-02 00:54:00</td>\n",
       "      <td>23.983333</td>\n",
       "      <td>2023-06-02 00:55:00</td>\n",
       "      <td>23.983333</td>\n",
       "      <td>5.000000</td>\n",
       "    </tr>\n",
       "    <tr>\n",
       "      <th>std</th>\n",
       "      <td>2444.934048</td>\n",
       "      <td>15.296112</td>\n",
       "      <td>NaN</td>\n",
       "      <td>0.500029</td>\n",
       "      <td>NaN</td>\n",
       "      <td>8.030059</td>\n",
       "      <td>NaN</td>\n",
       "      <td>6.846466</td>\n",
       "      <td>1.407016</td>\n",
       "    </tr>\n",
       "  </tbody>\n",
       "</table>\n",
       "</div>"
      ],
      "text/plain": [
       "         Ticket ID  Customer Age               Date of Purchase  \\\n",
       "count  8469.000000   8469.000000                           8469   \n",
       "mean   4235.000000     44.026804  2020-12-30 01:35:13.071200768   \n",
       "min       1.000000     18.000000            2020-01-01 00:00:00   \n",
       "25%    2118.000000     31.000000            2020-07-02 00:00:00   \n",
       "50%    4235.000000     44.000000            2020-12-31 00:00:00   \n",
       "75%    6352.000000     57.000000            2021-07-01 00:00:00   \n",
       "max    8469.000000     70.000000            2021-12-30 00:00:00   \n",
       "std    2444.934048     15.296112                            NaN   \n",
       "\n",
       "       Year of Purchase            First Response Time  Response Hours  \\\n",
       "count       8469.000000                           5650     8469.000000   \n",
       "mean        2020.499823  2023-06-01 11:26:17.617699328        8.019127   \n",
       "min         2020.000000            2023-05-31 21:55:00        0.000000   \n",
       "25%         2020.000000            2023-06-01 05:24:00        0.000000   \n",
       "50%         2020.000000            2023-06-01 11:26:00        5.950000   \n",
       "75%         2021.000000            2023-06-01 17:37:00       15.150000   \n",
       "max         2021.000000            2023-06-02 00:54:00       23.983333   \n",
       "std            0.500029                            NaN        8.030059   \n",
       "\n",
       "                  Time to Resolution  Resolution Hours  \\\n",
       "count                           2769       8469.000000   \n",
       "mean   2023-06-01 11:16:51.722643712          3.909456   \n",
       "min              2023-05-31 21:53:00          0.000000   \n",
       "25%              2023-06-01 05:34:00          0.000000   \n",
       "50%              2023-06-01 11:17:00          0.000000   \n",
       "75%              2023-06-01 17:07:00          5.916667   \n",
       "max              2023-06-02 00:55:00         23.983333   \n",
       "std                              NaN          6.846466   \n",
       "\n",
       "       Customer Satisfaction Rating  \n",
       "count                   2769.000000  \n",
       "mean                       2.991333  \n",
       "min                        1.000000  \n",
       "25%                        2.000000  \n",
       "50%                        3.000000  \n",
       "75%                        4.000000  \n",
       "max                        5.000000  \n",
       "std                        1.407016  "
      ]
     },
     "execution_count": 6,
     "metadata": {},
     "output_type": "execute_result"
    }
   ],
   "source": [
    "df.describe()"
   ]
  },
  {
   "cell_type": "code",
   "execution_count": 7,
   "id": "31ffbc0e",
   "metadata": {},
   "outputs": [
    {
     "name": "stdout",
     "output_type": "stream",
     "text": [
      "Ticket ID                          0\n",
      "Customer Name                      0\n",
      "Customer Email                     0\n",
      "Customer Age                       0\n",
      "Customer Gender                    0\n",
      "Product Purchased                  0\n",
      "Date of Purchase                   0\n",
      "Month of Purchase                  0\n",
      "Year of Purchase                   0\n",
      "Month-Year of Purchase             0\n",
      "Ticket Type                        0\n",
      "Ticket Subject                     0\n",
      "Ticket Description                 0\n",
      "Ticket Status                      0\n",
      "Resolution                      5700\n",
      "Ticket Priority                    0\n",
      "Ticket Channel                     0\n",
      "First Response Time             2819\n",
      "Response Hours                     0\n",
      "Time to Resolution              5700\n",
      "Resolution Hours                   0\n",
      "Customer Satisfaction Rating    5700\n",
      "dtype: int64\n"
     ]
    }
   ],
   "source": [
    "print(df.isnull().sum())"
   ]
  },
  {
   "cell_type": "code",
   "execution_count": 8,
   "id": "d7c32401",
   "metadata": {},
   "outputs": [
    {
     "data": {
      "text/plain": [
       "np.int64(0)"
      ]
     },
     "execution_count": 8,
     "metadata": {},
     "output_type": "execute_result"
    }
   ],
   "source": [
    "df.duplicated().sum()"
   ]
  },
  {
   "cell_type": "code",
   "execution_count": 9,
   "id": "e59b185d",
   "metadata": {},
   "outputs": [
    {
     "name": "stdout",
     "output_type": "stream",
     "text": [
      "Ticket ID: 8469 unique values\n",
      "Customer Name: 8028 unique values\n",
      "Customer Email: 8320 unique values\n",
      "Customer Age: 53 unique values\n",
      "Customer Gender: 3 unique values\n",
      "Product Purchased: 42 unique values\n",
      "Date of Purchase: 730 unique values\n",
      "Month of Purchase: 12 unique values\n",
      "Year of Purchase: 2 unique values\n",
      "Month-Year of Purchase: 24 unique values\n",
      "Ticket Type: 5 unique values\n",
      "Ticket Subject: 16 unique values\n",
      "Ticket Description: 8077 unique values\n",
      "Ticket Status: 3 unique values\n",
      "Resolution: 2769 unique values\n",
      "Ticket Priority: 4 unique values\n",
      "Ticket Channel: 4 unique values\n",
      "First Response Time: 1502 unique values\n",
      "Response Hours: 1411 unique values\n",
      "Time to Resolution: 1283 unique values\n",
      "Resolution Hours: 1228 unique values\n",
      "Customer Satisfaction Rating: 5 unique values\n"
     ]
    }
   ],
   "source": [
    "for col in df.columns:\n",
    "    print(f\"{col}: {df[col].nunique()} unique values\")"
   ]
  },
  {
   "cell_type": "markdown",
   "id": "2c7fc989",
   "metadata": {},
   "source": [
    "# **Data Preprocessing**"
   ]
  },
  {
   "cell_type": "code",
   "execution_count": 10,
   "id": "5325f63f",
   "metadata": {},
   "outputs": [
    {
     "name": "stderr",
     "output_type": "stream",
     "text": [
      "F:\\Personal Works\\Future Interns\\FUTURE_DS_02\\Scripts\\Preprocessing.py:8: FutureWarning: A value is trying to be set on a copy of a DataFrame or Series through chained assignment using an inplace method.\n",
      "The behavior will change in pandas 3.0. This inplace method will never work because the intermediate object on which we are setting values always behaves as a copy.\n",
      "\n",
      "For example, when doing 'df[col].method(value, inplace=True)', try using 'df.method({col: value}, inplace=True)' or df[col] = df[col].method(value) instead, to perform the operation inplace on the original object.\n",
      "\n",
      "\n",
      "  df[\"Resolution\"].fillna(\"No resolution documented\", inplace=True)\n",
      "F:\\Personal Works\\Future Interns\\FUTURE_DS_02\\Scripts\\Preprocessing.py:10: FutureWarning: A value is trying to be set on a copy of a DataFrame or Series through chained assignment using an inplace method.\n",
      "The behavior will change in pandas 3.0. This inplace method will never work because the intermediate object on which we are setting values always behaves as a copy.\n",
      "\n",
      "For example, when doing 'df[col].method(value, inplace=True)', try using 'df.method({col: value}, inplace=True)' or df[col] = df[col].method(value) instead, to perform the operation inplace on the original object.\n",
      "\n",
      "\n",
      "  df[\"Time to Resolution\"].fillna(median_all, inplace=True)\n",
      "F:\\Personal Works\\Future Interns\\FUTURE_DS_02\\Scripts\\Preprocessing.py:12: FutureWarning: A value is trying to be set on a copy of a DataFrame or Series through chained assignment using an inplace method.\n",
      "The behavior will change in pandas 3.0. This inplace method will never work because the intermediate object on which we are setting values always behaves as a copy.\n",
      "\n",
      "For example, when doing 'df[col].method(value, inplace=True)', try using 'df.method({col: value}, inplace=True)' or df[col] = df[col].method(value) instead, to perform the operation inplace on the original object.\n",
      "\n",
      "\n",
      "  df[\"Customer Satisfaction Rating\"].fillna(mean_rating, inplace=True)\n"
     ]
    }
   ],
   "source": [
    "from Scripts.Preprocessing import preprocess_data\n",
    "pre_processed_df = preprocess_data(df)"
   ]
  },
  {
   "cell_type": "code",
   "execution_count": 11,
   "id": "61849919",
   "metadata": {},
   "outputs": [
    {
     "data": {
      "application/vnd.microsoft.datawrangler.viewer.v0+json": {
       "columns": [
        {
         "name": "index",
         "rawType": "object",
         "type": "string"
        },
        {
         "name": "0",
         "rawType": "object",
         "type": "unknown"
        }
       ],
       "ref": "df5be94f-eb76-4106-8f41-25bec6028e06",
       "rows": [
        [
         "Ticket ID",
         "int64"
        ],
        [
         "Customer Name",
         "object"
        ],
        [
         "Customer Email",
         "object"
        ],
        [
         "Customer Age",
         "int64"
        ],
        [
         "Customer Gender",
         "object"
        ],
        [
         "Product Purchased",
         "object"
        ],
        [
         "Date of Purchase",
         "datetime64[ns]"
        ],
        [
         "Month of Purchase",
         "object"
        ],
        [
         "Year of Purchase",
         "int64"
        ],
        [
         "Month-Year of Purchase",
         "object"
        ],
        [
         "Ticket Type",
         "object"
        ],
        [
         "Ticket Subject",
         "object"
        ],
        [
         "Ticket Description",
         "object"
        ],
        [
         "Ticket Status",
         "object"
        ],
        [
         "Resolution",
         "object"
        ],
        [
         "Ticket Priority",
         "object"
        ],
        [
         "Ticket Channel",
         "object"
        ],
        [
         "First Response Time",
         "datetime64[ns]"
        ],
        [
         "Response Hours",
         "float64"
        ],
        [
         "Time to Resolution",
         "datetime64[ns]"
        ],
        [
         "Resolution Hours",
         "float64"
        ],
        [
         "Customer Satisfaction Rating",
         "float64"
        ],
        [
         "First Response Hrs",
         "float64"
        ],
        [
         "Resolution Hrs",
         "float64"
        ]
       ],
       "shape": {
        "columns": 1,
        "rows": 24
       }
      },
      "text/plain": [
       "Ticket ID                                int64\n",
       "Customer Name                           object\n",
       "Customer Email                          object\n",
       "Customer Age                             int64\n",
       "Customer Gender                         object\n",
       "Product Purchased                       object\n",
       "Date of Purchase                datetime64[ns]\n",
       "Month of Purchase                       object\n",
       "Year of Purchase                         int64\n",
       "Month-Year of Purchase                  object\n",
       "Ticket Type                             object\n",
       "Ticket Subject                          object\n",
       "Ticket Description                      object\n",
       "Ticket Status                           object\n",
       "Resolution                              object\n",
       "Ticket Priority                         object\n",
       "Ticket Channel                          object\n",
       "First Response Time             datetime64[ns]\n",
       "Response Hours                         float64\n",
       "Time to Resolution              datetime64[ns]\n",
       "Resolution Hours                       float64\n",
       "Customer Satisfaction Rating           float64\n",
       "First Response Hrs                     float64\n",
       "Resolution Hrs                         float64\n",
       "dtype: object"
      ]
     },
     "execution_count": 11,
     "metadata": {},
     "output_type": "execute_result"
    }
   ],
   "source": [
    "pre_processed_df.dtypes"
   ]
  },
  {
   "cell_type": "code",
   "execution_count": 12,
   "id": "363d230a",
   "metadata": {},
   "outputs": [
    {
     "data": {
      "application/vnd.microsoft.datawrangler.viewer.v0+json": {
       "columns": [
        {
         "name": "index",
         "rawType": "object",
         "type": "string"
        },
        {
         "name": "0",
         "rawType": "int64",
         "type": "integer"
        }
       ],
       "ref": "79db7dd6-481c-4fb8-a7f5-827e0e55e718",
       "rows": [
        [
         "Ticket ID",
         "0"
        ],
        [
         "Customer Name",
         "0"
        ],
        [
         "Customer Email",
         "0"
        ],
        [
         "Customer Age",
         "0"
        ],
        [
         "Customer Gender",
         "0"
        ],
        [
         "Product Purchased",
         "0"
        ],
        [
         "Date of Purchase",
         "0"
        ],
        [
         "Month of Purchase",
         "0"
        ],
        [
         "Year of Purchase",
         "0"
        ],
        [
         "Month-Year of Purchase",
         "0"
        ],
        [
         "Ticket Type",
         "0"
        ],
        [
         "Ticket Subject",
         "0"
        ],
        [
         "Ticket Description",
         "0"
        ],
        [
         "Ticket Status",
         "0"
        ],
        [
         "Resolution",
         "0"
        ],
        [
         "Ticket Priority",
         "0"
        ],
        [
         "Ticket Channel",
         "0"
        ],
        [
         "First Response Time",
         "0"
        ],
        [
         "Response Hours",
         "0"
        ],
        [
         "Time to Resolution",
         "0"
        ],
        [
         "Resolution Hours",
         "0"
        ],
        [
         "Customer Satisfaction Rating",
         "0"
        ],
        [
         "First Response Hrs",
         "0"
        ],
        [
         "Resolution Hrs",
         "0"
        ]
       ],
       "shape": {
        "columns": 1,
        "rows": 24
       }
      },
      "text/plain": [
       "Ticket ID                       0\n",
       "Customer Name                   0\n",
       "Customer Email                  0\n",
       "Customer Age                    0\n",
       "Customer Gender                 0\n",
       "Product Purchased               0\n",
       "Date of Purchase                0\n",
       "Month of Purchase               0\n",
       "Year of Purchase                0\n",
       "Month-Year of Purchase          0\n",
       "Ticket Type                     0\n",
       "Ticket Subject                  0\n",
       "Ticket Description              0\n",
       "Ticket Status                   0\n",
       "Resolution                      0\n",
       "Ticket Priority                 0\n",
       "Ticket Channel                  0\n",
       "First Response Time             0\n",
       "Response Hours                  0\n",
       "Time to Resolution              0\n",
       "Resolution Hours                0\n",
       "Customer Satisfaction Rating    0\n",
       "First Response Hrs              0\n",
       "Resolution Hrs                  0\n",
       "dtype: int64"
      ]
     },
     "execution_count": 12,
     "metadata": {},
     "output_type": "execute_result"
    }
   ],
   "source": [
    "pre_processed_df.isnull().sum()"
   ]
  },
  {
   "cell_type": "markdown",
   "id": "317693ee",
   "metadata": {},
   "source": [
    "# **Text Analysis**"
   ]
  },
  {
   "cell_type": "code",
   "execution_count": 13,
   "id": "72ae4949",
   "metadata": {},
   "outputs": [],
   "source": [
    "from Scripts.Text_analysis import *"
   ]
  },
  {
   "cell_type": "code",
   "execution_count": 14,
   "id": "ec23118f",
   "metadata": {},
   "outputs": [],
   "source": [
    "pre_processed_df[\"tokens\"] = pre_processed_df[\"Ticket Description\"].apply(tokenize)"
   ]
  },
  {
   "cell_type": "code",
   "execution_count": 15,
   "id": "b720832a",
   "metadata": {},
   "outputs": [],
   "source": [
    "pre_processed_df[\"resolution tokens\"] = pre_processed_df[\"Resolution\"].apply(tokenize)"
   ]
  },
  {
   "cell_type": "code",
   "execution_count": 16,
   "id": "b8baaa90",
   "metadata": {},
   "outputs": [
    {
     "name": "stdout",
     "output_type": "stream",
     "text": [
      "[('issue', 7674), ('please', 5871), ('assist', 4099), ('product', 1563), ('problem', 1540), ('data', 1063), ('software', 1063), ('account', 972), ('steps', 933), ('noticed', 825), ('resolve', 800), ('update', 794), ('help', 777), ('persists', 771), ('device', 751), ('would', 748), ('unable', 731), ('could', 708), ('using', 706), ('tried', 679)]\n"
     ]
    }
   ],
   "source": [
    "all_ticket_unigrams, all_resolution_unigram =  get_most_common_words(pre_processed_df)\n",
    "print(all_ticket_unigrams.most_common(20))"
   ]
  },
  {
   "cell_type": "code",
   "execution_count": 17,
   "id": "7d422f47",
   "metadata": {},
   "outputs": [
    {
     "name": "stdout",
     "output_type": "stream",
     "text": [
      "[('resolution', 2881), ('documented', 2881), ('evidence', 30), ('piece', 29), ('rate', 25), ('common', 25), ('throughout', 25), ('behavior', 25), ('leg', 25), ('bit', 25), ('available', 25), ('billion', 25), ('time', 25), ('discuss', 24), ('expect', 24), ('camera', 24), ('middle', 24), ('respond', 24), ('employee', 24), ('compare', 24)]\n"
     ]
    }
   ],
   "source": [
    "print(all_resolution_unigram.most_common(20))"
   ]
  },
  {
   "cell_type": "code",
   "execution_count": 18,
   "id": "3bf7d4a2",
   "metadata": {},
   "outputs": [],
   "source": [
    "common_words_tickets = all_ticket_unigrams.most_common(20)\n",
    "common_words_resolutions = all_resolution_unigram.most_common(20)"
   ]
  },
  {
   "cell_type": "code",
   "execution_count": 19,
   "id": "1adccc7a",
   "metadata": {},
   "outputs": [
    {
     "name": "stdout",
     "output_type": "stream",
     "text": [
      "[('issue', 7674), ('please', 5871), ('assist', 4099), ('product', 1563), ('problem', 1540), ('data', 1063), ('software', 1063), ('account', 972), ('steps', 933), ('noticed', 825), ('resolve', 800), ('update', 794), ('help', 777), ('persists', 771), ('device', 751), ('would', 748), ('unable', 731), ('could', 708), ('using', 706), ('tried', 679)]\n"
     ]
    }
   ],
   "source": [
    "print(common_words_tickets)"
   ]
  },
  {
   "cell_type": "code",
   "execution_count": 20,
   "id": "b63bfe34",
   "metadata": {},
   "outputs": [
    {
     "name": "stdout",
     "output_type": "stream",
     "text": [
      "[('resolution', 2881), ('documented', 2881), ('evidence', 30), ('piece', 29), ('rate', 25), ('common', 25), ('throughout', 25), ('behavior', 25), ('leg', 25), ('bit', 25), ('available', 25), ('billion', 25), ('time', 25), ('discuss', 24), ('expect', 24), ('camera', 24), ('middle', 24), ('respond', 24), ('employee', 24), ('compare', 24)]\n"
     ]
    }
   ],
   "source": [
    "print(common_words_resolutions)"
   ]
  },
  {
   "cell_type": "markdown",
   "id": "3bf283d8",
   "metadata": {},
   "source": [
    "# **Summarize the table**"
   ]
  },
  {
   "cell_type": "code",
   "execution_count": 21,
   "id": "8ebf21aa",
   "metadata": {},
   "outputs": [],
   "source": [
    "summary = pre_processed_df.groupby(\"Ticket Type\").agg(\n",
    "    tickets       = (\"Ticket ID\", \"count\"),\n",
    "    pct_total     = (\"Ticket ID\", lambda s: s.count()/len(pre_processed_df)*100),\n",
    "    avg_resp_hrs  = (\"First Response Hrs\", \"mean\"),\n",
    "    avg_res_hrs   = (\"Resolution Hrs\", \"mean\"),\n",
    "    avg_csat      = (\"Customer Satisfaction Rating\", \"mean\")\n",
    ").reset_index()"
   ]
  },
  {
   "cell_type": "code",
   "execution_count": 22,
   "id": "578da4d0",
   "metadata": {},
   "outputs": [],
   "source": [
    "summary[\"pct_total\"] = summary[\"pct_total\"].round(1)\n",
    "summary[[\"avg_resp_hrs\",\"avg_res_hrs\",\"avg_csat\"]] = summary[[\"avg_resp_hrs\",\"avg_res_hrs\",\"avg_csat\"]].round(2)"
   ]
  },
  {
   "cell_type": "code",
   "execution_count": 23,
   "id": "54961f4f",
   "metadata": {},
   "outputs": [],
   "source": [
    "summary.sort_values(by=\"tickets\", ascending=False, inplace=True)"
   ]
  },
  {
   "cell_type": "code",
   "execution_count": 24,
   "id": "673db60f",
   "metadata": {},
   "outputs": [
    {
     "data": {
      "application/vnd.microsoft.datawrangler.viewer.v0+json": {
       "columns": [
        {
         "name": "index",
         "rawType": "int64",
         "type": "integer"
        },
        {
         "name": "Ticket Type",
         "rawType": "object",
         "type": "string"
        },
        {
         "name": "tickets",
         "rawType": "int64",
         "type": "integer"
        },
        {
         "name": "pct_total",
         "rawType": "float64",
         "type": "float"
        },
        {
         "name": "avg_resp_hrs",
         "rawType": "float64",
         "type": "float"
        },
        {
         "name": "avg_res_hrs",
         "rawType": "float64",
         "type": "float"
        },
        {
         "name": "avg_csat",
         "rawType": "float64",
         "type": "float"
        }
       ],
       "ref": "7d5ed6b9-3b9b-447c-a240-c03ef5e31450",
       "rows": [
        [
         "3",
         "Refund request",
         "1188",
         "21.0",
         "12.21",
         "11.65",
         "2.96"
        ],
        [
         "4",
         "Technical issue",
         "1145",
         "20.3",
         "12.25",
         "11.47",
         "2.97"
        ],
        [
         "1",
         "Cancellation request",
         "1113",
         "19.7",
         "11.85",
         "11.64",
         "3.01"
        ],
        [
         "2",
         "Product inquiry",
         "1109",
         "19.6",
         "11.74",
         "11.81",
         "3.0"
        ],
        [
         "0",
         "Billing inquiry",
         "1095",
         "19.4",
         "12.03",
         "11.51",
         "3.01"
        ]
       ],
       "shape": {
        "columns": 6,
        "rows": 5
       }
      },
      "text/html": [
       "<div>\n",
       "<style scoped>\n",
       "    .dataframe tbody tr th:only-of-type {\n",
       "        vertical-align: middle;\n",
       "    }\n",
       "\n",
       "    .dataframe tbody tr th {\n",
       "        vertical-align: top;\n",
       "    }\n",
       "\n",
       "    .dataframe thead th {\n",
       "        text-align: right;\n",
       "    }\n",
       "</style>\n",
       "<table border=\"1\" class=\"dataframe\">\n",
       "  <thead>\n",
       "    <tr style=\"text-align: right;\">\n",
       "      <th></th>\n",
       "      <th>Ticket Type</th>\n",
       "      <th>tickets</th>\n",
       "      <th>pct_total</th>\n",
       "      <th>avg_resp_hrs</th>\n",
       "      <th>avg_res_hrs</th>\n",
       "      <th>avg_csat</th>\n",
       "    </tr>\n",
       "  </thead>\n",
       "  <tbody>\n",
       "    <tr>\n",
       "      <th>3</th>\n",
       "      <td>Refund request</td>\n",
       "      <td>1188</td>\n",
       "      <td>21.0</td>\n",
       "      <td>12.21</td>\n",
       "      <td>11.65</td>\n",
       "      <td>2.96</td>\n",
       "    </tr>\n",
       "    <tr>\n",
       "      <th>4</th>\n",
       "      <td>Technical issue</td>\n",
       "      <td>1145</td>\n",
       "      <td>20.3</td>\n",
       "      <td>12.25</td>\n",
       "      <td>11.47</td>\n",
       "      <td>2.97</td>\n",
       "    </tr>\n",
       "    <tr>\n",
       "      <th>1</th>\n",
       "      <td>Cancellation request</td>\n",
       "      <td>1113</td>\n",
       "      <td>19.7</td>\n",
       "      <td>11.85</td>\n",
       "      <td>11.64</td>\n",
       "      <td>3.01</td>\n",
       "    </tr>\n",
       "    <tr>\n",
       "      <th>2</th>\n",
       "      <td>Product inquiry</td>\n",
       "      <td>1109</td>\n",
       "      <td>19.6</td>\n",
       "      <td>11.74</td>\n",
       "      <td>11.81</td>\n",
       "      <td>3.00</td>\n",
       "    </tr>\n",
       "    <tr>\n",
       "      <th>0</th>\n",
       "      <td>Billing inquiry</td>\n",
       "      <td>1095</td>\n",
       "      <td>19.4</td>\n",
       "      <td>12.03</td>\n",
       "      <td>11.51</td>\n",
       "      <td>3.01</td>\n",
       "    </tr>\n",
       "  </tbody>\n",
       "</table>\n",
       "</div>"
      ],
      "text/plain": [
       "            Ticket Type  tickets  pct_total  avg_resp_hrs  avg_res_hrs  \\\n",
       "3        Refund request     1188       21.0         12.21        11.65   \n",
       "4       Technical issue     1145       20.3         12.25        11.47   \n",
       "1  Cancellation request     1113       19.7         11.85        11.64   \n",
       "2       Product inquiry     1109       19.6         11.74        11.81   \n",
       "0       Billing inquiry     1095       19.4         12.03        11.51   \n",
       "\n",
       "   avg_csat  \n",
       "3      2.96  \n",
       "4      2.97  \n",
       "1      3.01  \n",
       "2      3.00  \n",
       "0      3.01  "
      ]
     },
     "execution_count": 24,
     "metadata": {},
     "output_type": "execute_result"
    }
   ],
   "source": [
    "summary"
   ]
  },
  {
   "cell_type": "markdown",
   "id": "c943324c",
   "metadata": {},
   "source": [
    "# **Analyzing ticket samples from original dataframe**"
   ]
  },
  {
   "cell_type": "code",
   "execution_count": 25,
   "id": "63da2aa0",
   "metadata": {},
   "outputs": [],
   "source": [
    "mask_1 = pre_processed_df[\"Ticket Type\"] == \"Refund request\"\n",
    "ticket_samples_1 = pre_processed_df.loc[mask_1, [\"Ticket Description\", \"Resolution\"]].sample(5, random_state=42)"
   ]
  },
  {
   "cell_type": "code",
   "execution_count": 28,
   "id": "23c8e444",
   "metadata": {},
   "outputs": [],
   "source": [
    "ticket_sample_2 = pre_processed_df[\n",
    "    pre_processed_df[\"Ticket Type\"] == \"Technical issue\"\n",
    "    ].sample(5, random_state=42)[[\"Ticket Description\", \"Resolution\"]]\n",
    "\n",
    "ticket_sample_3 = pre_processed_df[\n",
    "    pre_processed_df[\"Ticket Type\"] == \"Cancellation request\"\n",
    "    ].sample(5, random_state=42)[[\"Ticket Description\", \"Resolution\"]]"
   ]
  },
  {
   "cell_type": "code",
   "execution_count": 27,
   "id": "ded233bc",
   "metadata": {},
   "outputs": [],
   "source": [
    "ticket_samples_1.to_csv(r\"F:\\Personal Works\\Future Interns\\FUTURE_DS_02\\Datasets\\Processed\\ticket_samples_refund.csv\", index=False)"
   ]
  },
  {
   "cell_type": "code",
   "execution_count": 29,
   "id": "00e99c56",
   "metadata": {},
   "outputs": [],
   "source": [
    "ticket_sample_2.to_csv(r\"F:\\Personal Works\\Future Interns\\FUTURE_DS_02\\Datasets\\Processed\\ticket_samples_technical.csv\", index=False)\n",
    "ticket_sample_3.to_csv(r\"F:\\Personal Works\\Future Interns\\FUTURE_DS_02\\Datasets\\Processed\\ticket_samples_cancellation.csv\", index=False)"
   ]
  }
 ],
 "metadata": {
  "kernelspec": {
   "display_name": "Python 3",
   "language": "python",
   "name": "python3"
  },
  "language_info": {
   "codemirror_mode": {
    "name": "ipython",
    "version": 3
   },
   "file_extension": ".py",
   "mimetype": "text/x-python",
   "name": "python",
   "nbconvert_exporter": "python",
   "pygments_lexer": "ipython3",
   "version": "3.11.9"
  }
 },
 "nbformat": 4,
 "nbformat_minor": 5
}
